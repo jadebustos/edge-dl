{
 "cells": [
  {
   "cell_type": "markdown",
   "id": "swiss-excuse",
   "metadata": {},
   "source": [
    "Copyright (c) 2022 José Ángel de Bustos Pérez\n",
    "\n",
    "May be copied or modified under the terms of the GNU General Public License v3.0.  See https://www.gnu.org/licenses/gpl-3.0.html\n",
    "\n",
    "# Training Xception\n",
    "\n",
    "This notebook trains Xception models and save the best and the last model.\n",
    "\n",
    "The h5 model is not included due to it exceeds GitHub storage limits.\n"
   ]
  },
  {
   "cell_type": "markdown",
   "id": "43f4c02c",
   "metadata": {},
   "source": [
    "## Check environment"
   ]
  },
  {
   "cell_type": "code",
   "execution_count": 1,
   "id": "4e33ba95",
   "metadata": {},
   "outputs": [
    {
     "name": "stderr",
     "output_type": "stream",
     "text": [
      "2022-09-14 22:05:23.299092: I tensorflow/stream_executor/platform/default/dso_loader.cc:53] Successfully opened dynamic library libcudart.so.11.0\n"
     ]
    },
    {
     "name": "stdout",
     "output_type": "stream",
     "text": [
      "Tensorflow version: 2.5.3\n",
      "\n",
      "[name: \"/device:CPU:0\"\n",
      "device_type: \"CPU\"\n",
      "memory_limit: 268435456\n",
      "locality {\n",
      "}\n",
      "incarnation: 12946791019166573292\n",
      ", name: \"/device:GPU:0\"\n",
      "device_type: \"GPU\"\n",
      "memory_limit: 23002873856\n",
      "locality {\n",
      "  bus_id: 1\n",
      "  links {\n",
      "  }\n",
      "}\n",
      "incarnation: 18221588906458059882\n",
      "physical_device_desc: \"device: 0, name: NVIDIA GeForce RTX 3090, pci bus id: 0000:01:00.0, compute capability: 8.6\"\n",
      "]\n",
      "Num GPUs Available:  1\n"
     ]
    },
    {
     "name": "stderr",
     "output_type": "stream",
     "text": [
      "2022-09-14 22:05:24.336169: I tensorflow/stream_executor/platform/default/dso_loader.cc:53] Successfully opened dynamic library libcuda.so.1\n",
      "2022-09-14 22:05:24.373762: I tensorflow/stream_executor/cuda/cuda_gpu_executor.cc:937] successful NUMA node read from SysFS had negative value (-1), but there must be at least one NUMA node, so returning NUMA node zero\n",
      "2022-09-14 22:05:24.373885: I tensorflow/core/common_runtime/gpu/gpu_device.cc:1733] Found device 0 with properties: \n",
      "pciBusID: 0000:01:00.0 name: NVIDIA GeForce RTX 3090 computeCapability: 8.6\n",
      "coreClock: 1.695GHz coreCount: 82 deviceMemorySize: 23.69GiB deviceMemoryBandwidth: 871.81GiB/s\n",
      "2022-09-14 22:05:24.373905: I tensorflow/stream_executor/platform/default/dso_loader.cc:53] Successfully opened dynamic library libcudart.so.11.0\n",
      "2022-09-14 22:05:24.379354: I tensorflow/stream_executor/platform/default/dso_loader.cc:53] Successfully opened dynamic library libcublas.so.11\n",
      "2022-09-14 22:05:24.379396: I tensorflow/stream_executor/platform/default/dso_loader.cc:53] Successfully opened dynamic library libcublasLt.so.11\n",
      "2022-09-14 22:05:24.400397: I tensorflow/stream_executor/platform/default/dso_loader.cc:53] Successfully opened dynamic library libcufft.so.10\n",
      "2022-09-14 22:05:24.401127: I tensorflow/stream_executor/platform/default/dso_loader.cc:53] Successfully opened dynamic library libcurand.so.10\n",
      "2022-09-14 22:05:24.401829: I tensorflow/stream_executor/platform/default/dso_loader.cc:53] Successfully opened dynamic library libcusolver.so.11\n",
      "2022-09-14 22:05:24.402707: I tensorflow/stream_executor/platform/default/dso_loader.cc:53] Successfully opened dynamic library libcusparse.so.11\n",
      "2022-09-14 22:05:24.403047: I tensorflow/stream_executor/platform/default/dso_loader.cc:53] Successfully opened dynamic library libcudnn.so.8\n",
      "2022-09-14 22:05:24.403139: I tensorflow/stream_executor/cuda/cuda_gpu_executor.cc:937] successful NUMA node read from SysFS had negative value (-1), but there must be at least one NUMA node, so returning NUMA node zero\n",
      "2022-09-14 22:05:24.403281: I tensorflow/stream_executor/cuda/cuda_gpu_executor.cc:937] successful NUMA node read from SysFS had negative value (-1), but there must be at least one NUMA node, so returning NUMA node zero\n",
      "2022-09-14 22:05:24.403358: I tensorflow/core/common_runtime/gpu/gpu_device.cc:1871] Adding visible gpu devices: 0\n",
      "2022-09-14 22:05:24.403977: I tensorflow/core/platform/cpu_feature_guard.cc:142] This TensorFlow binary is optimized with oneAPI Deep Neural Network Library (oneDNN) to use the following CPU instructions in performance-critical operations:  AVX2 FMA\n",
      "To enable them in other operations, rebuild TensorFlow with the appropriate compiler flags.\n",
      "2022-09-14 22:05:24.405222: I tensorflow/stream_executor/cuda/cuda_gpu_executor.cc:937] successful NUMA node read from SysFS had negative value (-1), but there must be at least one NUMA node, so returning NUMA node zero\n",
      "2022-09-14 22:05:24.405314: I tensorflow/core/common_runtime/gpu/gpu_device.cc:1733] Found device 0 with properties: \n",
      "pciBusID: 0000:01:00.0 name: NVIDIA GeForce RTX 3090 computeCapability: 8.6\n",
      "coreClock: 1.695GHz coreCount: 82 deviceMemorySize: 23.69GiB deviceMemoryBandwidth: 871.81GiB/s\n",
      "2022-09-14 22:05:24.405360: I tensorflow/stream_executor/cuda/cuda_gpu_executor.cc:937] successful NUMA node read from SysFS had negative value (-1), but there must be at least one NUMA node, so returning NUMA node zero\n",
      "2022-09-14 22:05:24.405452: I tensorflow/stream_executor/cuda/cuda_gpu_executor.cc:937] successful NUMA node read from SysFS had negative value (-1), but there must be at least one NUMA node, so returning NUMA node zero\n",
      "2022-09-14 22:05:24.405515: I tensorflow/core/common_runtime/gpu/gpu_device.cc:1871] Adding visible gpu devices: 0\n",
      "2022-09-14 22:05:24.405542: I tensorflow/stream_executor/platform/default/dso_loader.cc:53] Successfully opened dynamic library libcudart.so.11.0\n",
      "2022-09-14 22:05:24.965682: I tensorflow/core/common_runtime/gpu/gpu_device.cc:1258] Device interconnect StreamExecutor with strength 1 edge matrix:\n",
      "2022-09-14 22:05:24.965710: I tensorflow/core/common_runtime/gpu/gpu_device.cc:1264]      0 \n",
      "2022-09-14 22:05:24.965718: I tensorflow/core/common_runtime/gpu/gpu_device.cc:1277] 0:   N \n",
      "2022-09-14 22:05:24.965854: I tensorflow/stream_executor/cuda/cuda_gpu_executor.cc:937] successful NUMA node read from SysFS had negative value (-1), but there must be at least one NUMA node, so returning NUMA node zero\n",
      "2022-09-14 22:05:24.965997: I tensorflow/stream_executor/cuda/cuda_gpu_executor.cc:937] successful NUMA node read from SysFS had negative value (-1), but there must be at least one NUMA node, so returning NUMA node zero\n",
      "2022-09-14 22:05:24.966103: I tensorflow/stream_executor/cuda/cuda_gpu_executor.cc:937] successful NUMA node read from SysFS had negative value (-1), but there must be at least one NUMA node, so returning NUMA node zero\n",
      "2022-09-14 22:05:24.966190: I tensorflow/core/common_runtime/gpu/gpu_device.cc:1418] Created TensorFlow device (/device:GPU:0 with 21937 MB memory) -> physical GPU (device: 0, name: NVIDIA GeForce RTX 3090, pci bus id: 0000:01:00.0, compute capability: 8.6)\n"
     ]
    }
   ],
   "source": [
    "import warnings\n",
    "warnings.filterwarnings('ignore')\n",
    "\n",
    "import tensorflow as tf\n",
    "\n",
    "from tensorflow.compat.v1 import ConfigProto\n",
    "from tensorflow.compat.v1 import InteractiveSession\n",
    "config = ConfigProto()\n",
    "config.gpu_options.per_process_gpu_memory_fraction = 0.9\n",
    "gpu_devices = tf.config.experimental.list_physical_devices(\"GPU\")\n",
    "for device in gpu_devices:\n",
    "    tf.config.experimental.set_memory_growth(device, True)    \n",
    "\n",
    "print(\"Tensorflow version: %s\\n\" % tf.__version__)\n",
    "\n",
    "from tensorflow.python.client import device_lib\n",
    "print(device_lib.list_local_devices())\n",
    "print(\"Num GPUs Available: \", len(tf.config.list_physical_devices('GPU')))"
   ]
  },
  {
   "cell_type": "markdown",
   "id": "497dc050",
   "metadata": {},
   "source": [
    "## Hyperparameters and data preparation"
   ]
  },
  {
   "cell_type": "code",
   "execution_count": 2,
   "id": "f9ec7c95",
   "metadata": {},
   "outputs": [
    {
     "name": "stdout",
     "output_type": "stream",
     "text": [
      "Training videos (violence): 600\n",
      "Training images (violence): 9600\n",
      "Training videos (nonviolence): 600\n",
      "Training images (nonviolence): 9600\n",
      "\n",
      "Validation videos (violence): 200\n",
      "Validation images (violence): 3200\n",
      "Validation videos (nonviolence): 200\n",
      "Validation images (nonviolence): 3200\n",
      "\n",
      "Test videos (violence): 200\n",
      "Test videos (nonviolence): 200\n"
     ]
    }
   ],
   "source": [
    "import numpy as np\n",
    "import string\n",
    "import os\n",
    "\n",
    "whole_dataset = '/home/jadebustos/tfm/datasets/real life violence situations'\n",
    "\n",
    "video_path_train = '/home/jadebustos/tfm/datasets/video_tmp/full/train'\n",
    "video_path_validation = '/home/jadebustos/tfm/datasets/video_tmp/full/validation'\n",
    "video_path_test = '/home/jadebustos/tfm/datasets/video_tmp/full/test'\n",
    "\n",
    "imgs_path_train = '/home/jadebustos/tfm/datasets/imgs/full-16-frames/train'\n",
    "imgs_path_validation = '/home/jadebustos/tfm/datasets/imgs/full-16-frames/validation'\n",
    "imgs_path_test = '/home/jadebustos/tfm/datasets/imgs/full-16-frames/test'\n",
    "\n",
    "# Hyperparams\n",
    "IMAGE_SIZE = 200\n",
    "IMAGE_WIDTH, IMAGE_HEIGHT = IMAGE_SIZE, IMAGE_SIZE\n",
    "EPOCHS = 128\n",
    "BATCH_SIZE = 16\n",
    "\n",
    "DROPOUT = 0.5\n",
    "\n",
    "labels = ['violence', 'nonviolence']\n",
    "labels_dict = {}\n",
    "labels_dict['violence'] = 0\n",
    "labels_dict['nonviolence'] = 1\n",
    "\n",
    "# get files in directory\n",
    "def get_files_dir(directory):\n",
    "    return os.listdir(directory)\n",
    "\n",
    "files_dir = get_files_dir(os.path.join(video_path_train, 'violence'))\n",
    "print(\"Training videos (violence): %d\" % len(files_dir))\n",
    "files_dir = get_files_dir(os.path.join(imgs_path_train, 'violence'))\n",
    "print(\"Training images (violence): %d\" % len(files_dir))\n",
    "files_dir = get_files_dir(os.path.join(video_path_train, 'nonviolence'))\n",
    "print(\"Training videos (nonviolence): %d\" % len(files_dir))\n",
    "files_dir = get_files_dir(os.path.join(imgs_path_train, 'nonviolence'))\n",
    "print(\"Training images (nonviolence): %d\" % len(files_dir))\n",
    "\n",
    "files_dir = get_files_dir(os.path.join(video_path_validation, 'violence'))\n",
    "print(\"\\nValidation videos (violence): %d\" % len(files_dir))\n",
    "files_dir = get_files_dir(os.path.join(imgs_path_validation, 'violence'))\n",
    "print(\"Validation images (violence): %d\" % len(files_dir))\n",
    "files_dir = get_files_dir(os.path.join(video_path_validation, 'nonviolence'))\n",
    "print(\"Validation videos (nonviolence): %d\" % len(files_dir))\n",
    "files_dir = get_files_dir(os.path.join(imgs_path_validation, 'nonviolence'))\n",
    "print(\"Validation images (nonviolence): %d\" % len(files_dir))\n",
    "\n",
    "files_dir = get_files_dir(os.path.join(video_path_test, 'violence'))\n",
    "print(\"\\nTest videos (violence): %d\" % len(files_dir))\n",
    "files_dir = get_files_dir(os.path.join(video_path_test, 'nonviolence'))\n",
    "print(\"Test videos (nonviolence): %d\" % len(files_dir))"
   ]
  },
  {
   "cell_type": "markdown",
   "id": "50527f2f",
   "metadata": {},
   "source": [
    "Load training and validation data:"
   ]
  },
  {
   "cell_type": "code",
   "execution_count": 3,
   "id": "cardiovascular-renewal",
   "metadata": {},
   "outputs": [
    {
     "name": "stdout",
     "output_type": "stream",
     "text": [
      "Loading training data ...\n",
      "Loading validation data ...\n"
     ]
    }
   ],
   "source": [
    "import glob\n",
    "import cv2\n",
    "from glob import glob\n",
    "\n",
    "def load_set(dirname, labels_dict, verbose=True):\n",
    "    \"\"\"Esta función carga los datos de training en imágenes.\n",
    "    \n",
    "    Como las imágenes tienen tamaños distintas, utilizamos la librería opencv\n",
    "    para hacer un resize y adaptarlas todas a tamaño IMG_SIZE x IMG_SIZE.\n",
    "    \n",
    "    Args:\n",
    "        dirname: directorio completo del que leer los datos\n",
    "        verbose: si es True, muestra información de las imágenes cargadas\n",
    "     \n",
    "    Returns:\n",
    "        X, y: X es un array con todas las imágenes cargadas con tamaño\n",
    "                IMG_SIZE x IMG_SIZE\n",
    "              y es un array con las labels de correspondientes a cada imagen\n",
    "    \"\"\"\n",
    "    labels = glob(os.path.join(dirname, '*'), recursive = False)\n",
    "    X_ = []\n",
    "    y_ = []\n",
    "    \n",
    "    for label in labels:\n",
    "        label = label.split('/')[-1]\n",
    "        dir_path = os.path.join(dirname, label)\n",
    "        files_path = os.listdir(dir_path)\n",
    "        images = [file for file in files_path if file.endswith(\"png\")]\n",
    "        if verbose:\n",
    "          print(\"Reading {} images found in {}\".format(len(images), files_path))\n",
    "        for image_name in images:\n",
    "            image = cv2.imread(os.path.join(dir_path,image_name))\n",
    "            #image = cv2.cvtColor(image, cv2.COLOR_BGR2GRAY)\n",
    "            #X_.append(cv2.resize(image,(IMAGE_WIDTH, IMAGE_HEIGHT)))\n",
    "            X_.append(image)\n",
    "            y_.append(labels_dict[label])\n",
    "    return (np.array(X_).astype('float32'))/255, np.array(y_)\n",
    "\n",
    "# load data\n",
    "print(\"Loading training data ...\")\n",
    "X_train, y_train = load_set(imgs_path_train, labels_dict, verbose=False)\n",
    "print(\"Loading validation data ...\")\n",
    "X_validation, y_validation = load_set(imgs_path_validation, labels_dict, verbose=False)\n",
    "\n",
    "# define input_shape\n",
    "if tf.keras.backend.image_data_format() == 'channels_first':\n",
    "    input_shape = (3, IMAGE_WIDTH, IMAGE_HEIGHT)\n",
    "else:\n",
    "    input_shape = (IMAGE_WIDTH, IMAGE_HEIGHT, 3)"
   ]
  },
  {
   "cell_type": "markdown",
   "id": "640af530",
   "metadata": {},
   "source": [
    "## Model creation"
   ]
  },
  {
   "cell_type": "code",
   "execution_count": 4,
   "id": "aware-turtle",
   "metadata": {},
   "outputs": [
    {
     "name": "stderr",
     "output_type": "stream",
     "text": [
      "2022-09-14 22:05:49.742397: I tensorflow/stream_executor/cuda/cuda_gpu_executor.cc:937] successful NUMA node read from SysFS had negative value (-1), but there must be at least one NUMA node, so returning NUMA node zero\n",
      "2022-09-14 22:05:49.742496: I tensorflow/core/common_runtime/gpu/gpu_device.cc:1733] Found device 0 with properties: \n",
      "pciBusID: 0000:01:00.0 name: NVIDIA GeForce RTX 3090 computeCapability: 8.6\n",
      "coreClock: 1.695GHz coreCount: 82 deviceMemorySize: 23.69GiB deviceMemoryBandwidth: 871.81GiB/s\n",
      "2022-09-14 22:05:49.742539: I tensorflow/stream_executor/cuda/cuda_gpu_executor.cc:937] successful NUMA node read from SysFS had negative value (-1), but there must be at least one NUMA node, so returning NUMA node zero\n",
      "2022-09-14 22:05:49.742585: I tensorflow/stream_executor/cuda/cuda_gpu_executor.cc:937] successful NUMA node read from SysFS had negative value (-1), but there must be at least one NUMA node, so returning NUMA node zero\n",
      "2022-09-14 22:05:49.742620: I tensorflow/core/common_runtime/gpu/gpu_device.cc:1871] Adding visible gpu devices: 0\n",
      "2022-09-14 22:05:49.742639: I tensorflow/core/common_runtime/gpu/gpu_device.cc:1258] Device interconnect StreamExecutor with strength 1 edge matrix:\n",
      "2022-09-14 22:05:49.742641: I tensorflow/core/common_runtime/gpu/gpu_device.cc:1264]      0 \n",
      "2022-09-14 22:05:49.742643: I tensorflow/core/common_runtime/gpu/gpu_device.cc:1277] 0:   N \n",
      "2022-09-14 22:05:49.742672: I tensorflow/stream_executor/cuda/cuda_gpu_executor.cc:937] successful NUMA node read from SysFS had negative value (-1), but there must be at least one NUMA node, so returning NUMA node zero\n",
      "2022-09-14 22:05:49.742718: I tensorflow/stream_executor/cuda/cuda_gpu_executor.cc:937] successful NUMA node read from SysFS had negative value (-1), but there must be at least one NUMA node, so returning NUMA node zero\n",
      "2022-09-14 22:05:49.742759: I tensorflow/core/common_runtime/gpu/gpu_device.cc:1418] Created TensorFlow device (/job:localhost/replica:0/task:0/device:GPU:0 with 21937 MB memory) -> physical GPU (device: 0, name: NVIDIA GeForce RTX 3090, pci bus id: 0000:01:00.0, compute capability: 8.6)\n"
     ]
    },
    {
     "name": "stdout",
     "output_type": "stream",
     "text": [
      "Downloading data from https://storage.googleapis.com/tensorflow/keras-applications/xception/xception_weights_tf_dim_ordering_tf_kernels_notop.h5\n",
      "83689472/83683744 [==============================] - 7s 0us/step\n",
      "Model: \"sequential\"\n",
      "_________________________________________________________________\n",
      "Layer (type)                 Output Shape              Param #   \n",
      "=================================================================\n",
      "xception (Functional)        (None, 7, 7, 2048)        20861480  \n",
      "_________________________________________________________________\n",
      "flatten (Flatten)            (None, 100352)            0         \n",
      "_________________________________________________________________\n",
      "dense (Dense)                (None, 512)               51380736  \n",
      "_________________________________________________________________\n",
      "dropout (Dropout)            (None, 512)               0         \n",
      "_________________________________________________________________\n",
      "dense_1 (Dense)              (None, 512)               262656    \n",
      "_________________________________________________________________\n",
      "dropout_1 (Dropout)          (None, 512)               0         \n",
      "_________________________________________________________________\n",
      "dense_2 (Dense)              (None, 16)                8208      \n",
      "_________________________________________________________________\n",
      "dropout_2 (Dropout)          (None, 16)                0         \n",
      "_________________________________________________________________\n",
      "dense_3 (Dense)              (None, 16)                272       \n",
      "_________________________________________________________________\n",
      "dense_4 (Dense)              (None, 1)                 17        \n",
      "=================================================================\n",
      "Total params: 72,513,369\n",
      "Trainable params: 51,651,889\n",
      "Non-trainable params: 20,861,480\n",
      "_________________________________________________________________\n"
     ]
    }
   ],
   "source": [
    "import time\n",
    "import tensorflow as tf\n",
    "import tensorflow.keras as K\n",
    "\n",
    "# function to get training time (human readable)\n",
    "def display_time(seconds, granularity=2):\n",
    "    result = []\n",
    "\n",
    "    intervals = (\n",
    "        ('dias', 86400),    # 60 * 60 * 24\n",
    "        ('horas', 3600),    # 60 * 60\n",
    "        ('minutos', 60),\n",
    "        ('segundos', 1),\n",
    "    )\n",
    "    \n",
    "    for name, count in intervals:\n",
    "        value = seconds // count\n",
    "        if value:\n",
    "            seconds -= value * count\n",
    "            if value == 1:\n",
    "                name = name.rstrip('s')\n",
    "            result.append(\"{} {}\".format(value, name))\n",
    "    return ', '.join(result[:granularity])\n",
    "\n",
    "# TODO MOVE NEURAL NETWORK CODE TO A CLASS\n",
    "\n",
    "# load the Keras xception\n",
    "xception_model = tf.keras.applications.Xception(\n",
    "    include_top = False,\n",
    "    weights = 'imagenet',\n",
    "#    input_tensor = K.Input(shape=input_shape),\n",
    "    input_shape = input_shape,\n",
    ")\n",
    "\n",
    "for layer in xception_model.layers:\n",
    "    layer.trainable = False\n",
    "\n",
    "model = K.Sequential()\n",
    "model.add(xception_model)\n",
    "model.add(K.layers.Flatten())\n",
    "model.add(K.layers.Dense(512, activation=\"relu\"))\n",
    "model.add(K.layers.Dropout(DROPOUT))\n",
    "model.add(K.layers.Dense(512, activation=\"relu\"))\n",
    "model.add(K.layers.Dropout(DROPOUT))\n",
    "model.add(K.layers.Dense(16, activation=\"relu\"))\n",
    "model.add(K.layers.Dropout(DROPOUT))\n",
    "model.add(K.layers.Dense(16, activation=\"relu\"))\n",
    "model.add(K.layers.Dense(1, activation='sigmoid'))\n",
    "\n",
    "VERSION=\"alt3\"\n",
    "\n",
    "model_checkpoint_filename_acc = \"trained-xception-b\" + str(BATCH_SIZE) + \"-e\" + str(EPOCHS) + \"-16frames-acc-dropout-\" + str(DROPOUT) + \"-\" + VERSION + \".h5\"\n",
    "check_point = K.callbacks.ModelCheckpoint(filepath=model_checkpoint_filename_acc,\n",
    "                                          monitor=\"val_accuracy\",\n",
    "                                          mode=\"max\",\n",
    "                                          save_best_only=True,\n",
    "                                         )\n",
    "\n",
    "#early_stopping = K.callbacks.EarlyStopping(monitor='val_accuracy', patience=16, verbose=0, mode='max')\n",
    "\n",
    "# loss:\n",
    "#  binary_crossentropy for binary problems\n",
    "#  categorical_crossentropy for more classes\n",
    "\n",
    "lr = 1e-6\n",
    "model.compile(loss='binary_crossentropy',\n",
    "                 optimizer=K.optimizers.RMSprop(learning_rate=lr),\n",
    "                  metrics=['accuracy'])\n",
    "\n",
    "model.summary()"
   ]
  },
  {
   "cell_type": "markdown",
   "id": "2109ac00",
   "metadata": {},
   "source": [
    "## Training the model\n",
    "\n",
    "Callback to see the model performance. **PlotLossesKeras** from **livelossplot** does not work, it seem a problem with Tensorflow version (2.4.1) and Keras version (2.9.0)."
   ]
  },
  {
   "cell_type": "code",
   "execution_count": 5,
   "id": "b909a332",
   "metadata": {},
   "outputs": [],
   "source": [
    "import numpy as np \n",
    "from tensorflow import keras\n",
    "from matplotlib import pyplot as plt\n",
    "from IPython.display import clear_output\n",
    "\n",
    "class PlotLearning(keras.callbacks.Callback):\n",
    "    \"\"\"\n",
    "    Callback to plot the learning curves of the model during training.\n",
    "    \"\"\"\n",
    "    def on_train_begin(self, logs={}):\n",
    "        self.metrics = {}\n",
    "        for metric in logs:\n",
    "            self.metrics[metric] = []\n",
    "            \n",
    "\n",
    "    def on_epoch_end(self, epoch, logs={}):\n",
    "        # Storing metrics\n",
    "        for metric in logs:\n",
    "            if metric in self.metrics:\n",
    "                self.metrics[metric].append(logs.get(metric))\n",
    "            else:\n",
    "                self.metrics[metric] = [logs.get(metric)]\n",
    "        \n",
    "        # Plotting\n",
    "        metrics = [x for x in logs if 'val' not in x]\n",
    "        \n",
    "        f, axs = plt.subplots(1, len(metrics), figsize=(15,5))\n",
    "        clear_output(wait=True)\n",
    "\n",
    "        for i, metric in enumerate(metrics):\n",
    "            axs[i].plot(range(1, epoch + 2), \n",
    "                        self.metrics[metric], \n",
    "                        label=metric)\n",
    "            if logs['val_' + metric]:\n",
    "                axs[i].plot(range(1, epoch + 2), \n",
    "                            self.metrics['val_' + metric], \n",
    "                            label='val_' + metric)\n",
    "                \n",
    "            axs[i].legend()\n",
    "            axs[i].grid()\n",
    "\n",
    "        plt.tight_layout()\n",
    "        plt.show()"
   ]
  },
  {
   "cell_type": "code",
   "execution_count": 6,
   "id": "2e25c14e",
   "metadata": {},
   "outputs": [
    {
     "data": {
      "text/plain": [
       "'Wed Sep 14 22:05:57 2022'"
      ]
     },
     "execution_count": 6,
     "metadata": {},
     "output_type": "execute_result"
    }
   ],
   "source": [
    "time.ctime()"
   ]
  },
  {
   "cell_type": "code",
   "execution_count": 7,
   "id": "mysterious-olive",
   "metadata": {},
   "outputs": [
    {
     "data": {
      "image/png": "[encoded data removed]",
      "text/plain": [
       "<Figure size 1080x360 with 2 Axes>"
      ]
     },
     "metadata": {
      "needs_background": "light"
     },
     "output_type": "display_data"
    },
    {
     "name": "stdout",
     "output_type": "stream",
     "text": [
      "Model: \"sequential\"\n",
      "_________________________________________________________________\n",
      "Layer (type)                 Output Shape              Param #   \n",
      "=================================================================\n",
      "xception (Functional)        (None, 7, 7, 2048)        20861480  \n",
      "_________________________________________________________________\n",
      "flatten (Flatten)            (None, 100352)            0         \n",
      "_________________________________________________________________\n",
      "dense (Dense)                (None, 512)               51380736  \n",
      "_________________________________________________________________\n",
      "dropout (Dropout)            (None, 512)               0         \n",
      "_________________________________________________________________\n",
      "dense_1 (Dense)              (None, 512)               262656    \n",
      "_________________________________________________________________\n",
      "dropout_1 (Dropout)          (None, 512)               0         \n",
      "_________________________________________________________________\n",
      "dense_2 (Dense)              (None, 16)                8208      \n",
      "_________________________________________________________________\n",
      "dropout_2 (Dropout)          (None, 16)                0         \n",
      "_________________________________________________________________\n",
      "dense_3 (Dense)              (None, 16)                272       \n",
      "_________________________________________________________________\n",
      "dense_4 (Dense)              (None, 1)                 17        \n",
      "=================================================================\n",
      "Total params: 72,513,369\n",
      "Trainable params: 51,651,889\n",
      "Non-trainable params: 20,861,480\n",
      "_________________________________________________________________\n",
      "Training time: 1.0 hora, 6.0 minutos\n"
     ]
    }
   ],
   "source": [
    "# time to start training\n",
    "start_time = time.time()\n",
    "\n",
    "history = model.fit(X_train, y_train, batch_size=BATCH_SIZE, epochs=EPOCHS, verbose=1,\n",
    "                    validation_data=(X_validation, y_validation),\n",
    "                    shuffle=True,\n",
    "                    callbacks=[PlotLearning(),\n",
    "                               check_point])\n",
    "\n",
    "# time at the end of training\n",
    "end_time = time.time()\n",
    "\n",
    "model_last_filename = \"trained-xception-b\" + str(BATCH_SIZE) + \"-e\" + str(EPOCHS) + \"-16frames-last-dropout-\" + str(DROPOUT) + \"-\" + VERSION + \".h5\"\n",
    "\n",
    "model.summary()\n",
    "model.save(model_last_filename)\n",
    "\n",
    "# time to train\n",
    "msg = display_time(end_time - start_time)\n",
    "print(\"Training time: %s\" % msg)"
   ]
  },
  {
   "cell_type": "code",
   "execution_count": 8,
   "id": "98d4ad9f",
   "metadata": {},
   "outputs": [
    {
     "data": {
      "text/plain": [
       "0.9856250286102295"
      ]
     },
     "execution_count": 8,
     "metadata": {},
     "output_type": "execute_result"
    }
   ],
   "source": [
    "accuracy = history.history['accuracy']\n",
    "max(accuracy)"
   ]
  },
  {
   "cell_type": "code",
   "execution_count": 9,
   "id": "62ade7d3",
   "metadata": {},
   "outputs": [
    {
     "data": {
      "text/plain": [
       "0.04651680588722229"
      ]
     },
     "execution_count": 9,
     "metadata": {},
     "output_type": "execute_result"
    }
   ],
   "source": [
    "loss = history.history['loss']\n",
    "min(loss)"
   ]
  },
  {
   "cell_type": "code",
   "execution_count": 10,
   "id": "432e3f61",
   "metadata": {},
   "outputs": [
    {
     "data": {
      "text/plain": [
       "0.9225000143051147"
      ]
     },
     "execution_count": 10,
     "metadata": {},
     "output_type": "execute_result"
    }
   ],
   "source": [
    "val_accuracy = history.history['val_accuracy']\n",
    "max(val_accuracy)"
   ]
  },
  {
   "cell_type": "code",
   "execution_count": 11,
   "id": "e023bc23",
   "metadata": {},
   "outputs": [
    {
     "data": {
      "text/plain": [
       "0.2780204713344574"
      ]
     },
     "execution_count": 11,
     "metadata": {},
     "output_type": "execute_result"
    }
   ],
   "source": [
    "val_loss = history.history['val_loss']\n",
    "min(val_loss)"
   ]
  },
  {
   "cell_type": "markdown",
   "id": "d7ecd1b8",
   "metadata": {},
   "source": [
    "## Testing the model"
   ]
  },
  {
   "cell_type": "code",
   "execution_count": 12,
   "id": "a5b3e867",
   "metadata": {},
   "outputs": [],
   "source": [
    "prediction = model.predict(X_train[:1])"
   ]
  },
  {
   "cell_type": "code",
   "execution_count": 13,
   "id": "4009fe16",
   "metadata": {},
   "outputs": [
    {
     "data": {
      "text/plain": [
       "array([[4.3124866e-05]], dtype=float32)"
      ]
     },
     "execution_count": 13,
     "metadata": {},
     "output_type": "execute_result"
    }
   ],
   "source": [
    "prediction"
   ]
  },
  {
   "cell_type": "code",
   "execution_count": null,
   "id": "a91fe277",
   "metadata": {},
   "outputs": [],
   "source": []
  }
 ],
 "metadata": {
  "kernelspec": {
   "display_name": "Python 3 (ipykernel)",
   "language": "python",
   "name": "python3"
  },
  "language_info": {
   "codemirror_mode": {
    "name": "ipython",
    "version": 3
   },
   "file_extension": ".py",
   "mimetype": "text/x-python",
   "name": "python",
   "nbconvert_exporter": "python",
   "pygments_lexer": "ipython3",
   "version": "3.7.13"
  }
 },
 "nbformat": 4,
 "nbformat_minor": 5
}
