{
 "cells": [
  {
   "cell_type": "markdown",
   "id": "swiss-excuse",
   "metadata": {},
   "source": [
    "Copyright (c) 2022 José Ángel de Bustos Pérez\n",
    "\n",
    "May be copied or modified under the terms of the GNU General Public License v3.0.  See https://www.gnu.org/licenses/gpl-3.0.html\n",
    "\n",
    "# Testing InceptionResnetV2 (Airtlab Dataset)\n",
    "\n",
    "This notebook tests InceptionResnetV2 models and print the Confusion Matrix.\n",
    "\n",
    "The h5 model is not included due to it exceeds GitHub storage limits.\n",
    "\n",
    "https://github.com/airtlab/A-Dataset-for-Automatic-Violence-Detection-in-Videos\n"
   ]
  },
  {
   "cell_type": "markdown",
   "id": "43f4c02c",
   "metadata": {},
   "source": [
    "## Check environment"
   ]
  },
  {
   "cell_type": "code",
   "execution_count": 1,
   "id": "4e33ba95",
   "metadata": {},
   "outputs": [
    {
     "name": "stderr",
     "output_type": "stream",
     "text": [
      "2022-09-18 12:20:09.634125: I tensorflow/stream_executor/platform/default/dso_loader.cc:53] Successfully opened dynamic library libcudart.so.11.0\n"
     ]
    },
    {
     "name": "stdout",
     "output_type": "stream",
     "text": [
      "Tensorflow version: 2.5.3\n",
      "\n",
      "[name: \"/device:CPU:0\"\n",
      "device_type: \"CPU\"\n",
      "memory_limit: 268435456\n",
      "locality {\n",
      "}\n",
      "incarnation: 13119372514417723220\n",
      ", name: \"/device:GPU:0\"\n",
      "device_type: \"GPU\"\n",
      "memory_limit: 23031513088\n",
      "locality {\n",
      "  bus_id: 1\n",
      "  links {\n",
      "  }\n",
      "}\n",
      "incarnation: 16468999196502000667\n",
      "physical_device_desc: \"device: 0, name: NVIDIA GeForce RTX 3090, pci bus id: 0000:01:00.0, compute capability: 8.6\"\n",
      "]\n",
      "Num GPUs Available:  1\n"
     ]
    },
    {
     "name": "stderr",
     "output_type": "stream",
     "text": [
      "2022-09-18 12:20:10.135115: I tensorflow/stream_executor/platform/default/dso_loader.cc:53] Successfully opened dynamic library libcuda.so.1\n",
      "2022-09-18 12:20:10.169143: I tensorflow/stream_executor/cuda/cuda_gpu_executor.cc:937] successful NUMA node read from SysFS had negative value (-1), but there must be at least one NUMA node, so returning NUMA node zero\n",
      "2022-09-18 12:20:10.169213: I tensorflow/core/common_runtime/gpu/gpu_device.cc:1733] Found device 0 with properties: \n",
      "pciBusID: 0000:01:00.0 name: NVIDIA GeForce RTX 3090 computeCapability: 8.6\n",
      "coreClock: 1.695GHz coreCount: 82 deviceMemorySize: 23.69GiB deviceMemoryBandwidth: 871.81GiB/s\n",
      "2022-09-18 12:20:10.169223: I tensorflow/stream_executor/platform/default/dso_loader.cc:53] Successfully opened dynamic library libcudart.so.11.0\n",
      "2022-09-18 12:20:10.171503: I tensorflow/stream_executor/platform/default/dso_loader.cc:53] Successfully opened dynamic library libcublas.so.11\n",
      "2022-09-18 12:20:10.171528: I tensorflow/stream_executor/platform/default/dso_loader.cc:53] Successfully opened dynamic library libcublasLt.so.11\n",
      "2022-09-18 12:20:10.184506: I tensorflow/stream_executor/platform/default/dso_loader.cc:53] Successfully opened dynamic library libcufft.so.10\n",
      "2022-09-18 12:20:10.184639: I tensorflow/stream_executor/platform/default/dso_loader.cc:53] Successfully opened dynamic library libcurand.so.10\n",
      "2022-09-18 12:20:10.184905: I tensorflow/stream_executor/platform/default/dso_loader.cc:53] Successfully opened dynamic library libcusolver.so.11\n",
      "2022-09-18 12:20:10.185280: I tensorflow/stream_executor/platform/default/dso_loader.cc:53] Successfully opened dynamic library libcusparse.so.11\n",
      "2022-09-18 12:20:10.185335: I tensorflow/stream_executor/platform/default/dso_loader.cc:53] Successfully opened dynamic library libcudnn.so.8\n",
      "2022-09-18 12:20:10.185373: I tensorflow/stream_executor/cuda/cuda_gpu_executor.cc:937] successful NUMA node read from SysFS had negative value (-1), but there must be at least one NUMA node, so returning NUMA node zero\n",
      "2022-09-18 12:20:10.185466: I tensorflow/stream_executor/cuda/cuda_gpu_executor.cc:937] successful NUMA node read from SysFS had negative value (-1), but there must be at least one NUMA node, so returning NUMA node zero\n",
      "2022-09-18 12:20:10.185505: I tensorflow/core/common_runtime/gpu/gpu_device.cc:1871] Adding visible gpu devices: 0\n",
      "2022-09-18 12:20:10.185929: I tensorflow/core/platform/cpu_feature_guard.cc:142] This TensorFlow binary is optimized with oneAPI Deep Neural Network Library (oneDNN) to use the following CPU instructions in performance-critical operations:  AVX2 FMA\n",
      "To enable them in other operations, rebuild TensorFlow with the appropriate compiler flags.\n",
      "2022-09-18 12:20:10.187531: I tensorflow/stream_executor/cuda/cuda_gpu_executor.cc:937] successful NUMA node read from SysFS had negative value (-1), but there must be at least one NUMA node, so returning NUMA node zero\n",
      "2022-09-18 12:20:10.187626: I tensorflow/core/common_runtime/gpu/gpu_device.cc:1733] Found device 0 with properties: \n",
      "pciBusID: 0000:01:00.0 name: NVIDIA GeForce RTX 3090 computeCapability: 8.6\n",
      "coreClock: 1.695GHz coreCount: 82 deviceMemorySize: 23.69GiB deviceMemoryBandwidth: 871.81GiB/s\n",
      "2022-09-18 12:20:10.187664: I tensorflow/stream_executor/cuda/cuda_gpu_executor.cc:937] successful NUMA node read from SysFS had negative value (-1), but there must be at least one NUMA node, so returning NUMA node zero\n",
      "2022-09-18 12:20:10.187748: I tensorflow/stream_executor/cuda/cuda_gpu_executor.cc:937] successful NUMA node read from SysFS had negative value (-1), but there must be at least one NUMA node, so returning NUMA node zero\n",
      "2022-09-18 12:20:10.187807: I tensorflow/core/common_runtime/gpu/gpu_device.cc:1871] Adding visible gpu devices: 0\n",
      "2022-09-18 12:20:10.187829: I tensorflow/stream_executor/platform/default/dso_loader.cc:53] Successfully opened dynamic library libcudart.so.11.0\n",
      "2022-09-18 12:20:10.610858: I tensorflow/core/common_runtime/gpu/gpu_device.cc:1258] Device interconnect StreamExecutor with strength 1 edge matrix:\n",
      "2022-09-18 12:20:10.610886: I tensorflow/core/common_runtime/gpu/gpu_device.cc:1264]      0 \n",
      "2022-09-18 12:20:10.610894: I tensorflow/core/common_runtime/gpu/gpu_device.cc:1277] 0:   N \n",
      "2022-09-18 12:20:10.611034: I tensorflow/stream_executor/cuda/cuda_gpu_executor.cc:937] successful NUMA node read from SysFS had negative value (-1), but there must be at least one NUMA node, so returning NUMA node zero\n",
      "2022-09-18 12:20:10.611161: I tensorflow/stream_executor/cuda/cuda_gpu_executor.cc:937] successful NUMA node read from SysFS had negative value (-1), but there must be at least one NUMA node, so returning NUMA node zero\n",
      "2022-09-18 12:20:10.611262: I tensorflow/stream_executor/cuda/cuda_gpu_executor.cc:937] successful NUMA node read from SysFS had negative value (-1), but there must be at least one NUMA node, so returning NUMA node zero\n",
      "2022-09-18 12:20:10.611438: I tensorflow/core/common_runtime/gpu/gpu_device.cc:1418] Created TensorFlow device (/device:GPU:0 with 21964 MB memory) -> physical GPU (device: 0, name: NVIDIA GeForce RTX 3090, pci bus id: 0000:01:00.0, compute capability: 8.6)\n"
     ]
    }
   ],
   "source": [
    "import warnings\n",
    "warnings.filterwarnings('ignore')\n",
    "\n",
    "import tensorflow as tf\n",
    "\n",
    "from tensorflow.compat.v1 import ConfigProto\n",
    "from tensorflow.compat.v1 import InteractiveSession\n",
    "config = ConfigProto()\n",
    "config.gpu_options.per_process_gpu_memory_fraction = 0.9\n",
    "gpu_devices = tf.config.experimental.list_physical_devices(\"GPU\")\n",
    "for device in gpu_devices:\n",
    "    tf.config.experimental.set_memory_growth(device, True)    \n",
    "\n",
    "print(\"Tensorflow version: %s\\n\" % tf.__version__)\n",
    "\n",
    "from tensorflow.python.client import device_lib\n",
    "print(device_lib.list_local_devices())\n",
    "print(\"Num GPUs Available: \", len(tf.config.list_physical_devices('GPU')))"
   ]
  },
  {
   "cell_type": "markdown",
   "id": "497dc050",
   "metadata": {},
   "source": [
    "## Hyperparameters and data preparation"
   ]
  },
  {
   "cell_type": "code",
   "execution_count": 2,
   "id": "f9ec7c95",
   "metadata": {},
   "outputs": [
    {
     "name": "stdout",
     "output_type": "stream",
     "text": [
      "\n",
      "Test videos (violence): 230\n",
      "Test videos (nonviolence): 120\n"
     ]
    }
   ],
   "source": [
    "import numpy as np\n",
    "import string\n",
    "import os\n",
    "\n",
    "video_path_test = '/home/jadebustos/tfm/datasets/airtlab'\n",
    "\n",
    "# Hyperparams\n",
    "IMAGE_SIZE = 200\n",
    "IMAGE_WIDTH, IMAGE_HEIGHT = IMAGE_SIZE, IMAGE_SIZE\n",
    "\n",
    "input_shape = (IMAGE_WIDTH, IMAGE_HEIGHT, 3)\n",
    "\n",
    "DROPOUT = 0.5\n",
    "\n",
    "labels = ['violence', 'nonviolence']\n",
    "labels_dict = {}\n",
    "labels_dict['violence'] = 0\n",
    "labels_dict['nonviolence'] = 1\n",
    "\n",
    "# get files in directory\n",
    "def get_files_dir(directory):\n",
    "    return os.listdir(directory)\n",
    "\n",
    "files_dir_violence = get_files_dir(os.path.join(video_path_test, 'violence'))\n",
    "print(\"\\nTest videos (violence): %d\" % len(files_dir_violence))\n",
    "files_dir_nonviolence = get_files_dir(os.path.join(video_path_test, 'nonviolence'))\n",
    "print(\"Test videos (nonviolence): %d\" % len(files_dir_nonviolence))"
   ]
  },
  {
   "cell_type": "markdown",
   "id": "640af530",
   "metadata": {},
   "source": [
    "## Model creation"
   ]
  },
  {
   "cell_type": "code",
   "execution_count": 3,
   "id": "aware-turtle",
   "metadata": {},
   "outputs": [
    {
     "name": "stderr",
     "output_type": "stream",
     "text": [
      "2022-09-18 12:20:10.641633: I tensorflow/stream_executor/cuda/cuda_gpu_executor.cc:937] successful NUMA node read from SysFS had negative value (-1), but there must be at least one NUMA node, so returning NUMA node zero\n",
      "2022-09-18 12:20:10.641769: I tensorflow/core/common_runtime/gpu/gpu_device.cc:1733] Found device 0 with properties: \n",
      "pciBusID: 0000:01:00.0 name: NVIDIA GeForce RTX 3090 computeCapability: 8.6\n",
      "coreClock: 1.695GHz coreCount: 82 deviceMemorySize: 23.69GiB deviceMemoryBandwidth: 871.81GiB/s\n",
      "2022-09-18 12:20:10.641825: I tensorflow/stream_executor/cuda/cuda_gpu_executor.cc:937] successful NUMA node read from SysFS had negative value (-1), but there must be at least one NUMA node, so returning NUMA node zero\n",
      "2022-09-18 12:20:10.641901: I tensorflow/stream_executor/cuda/cuda_gpu_executor.cc:937] successful NUMA node read from SysFS had negative value (-1), but there must be at least one NUMA node, so returning NUMA node zero\n",
      "2022-09-18 12:20:10.641958: I tensorflow/core/common_runtime/gpu/gpu_device.cc:1871] Adding visible gpu devices: 0\n",
      "2022-09-18 12:20:10.641981: I tensorflow/core/common_runtime/gpu/gpu_device.cc:1258] Device interconnect StreamExecutor with strength 1 edge matrix:\n",
      "2022-09-18 12:20:10.641985: I tensorflow/core/common_runtime/gpu/gpu_device.cc:1264]      0 \n",
      "2022-09-18 12:20:10.641989: I tensorflow/core/common_runtime/gpu/gpu_device.cc:1277] 0:   N \n",
      "2022-09-18 12:20:10.642030: I tensorflow/stream_executor/cuda/cuda_gpu_executor.cc:937] successful NUMA node read from SysFS had negative value (-1), but there must be at least one NUMA node, so returning NUMA node zero\n",
      "2022-09-18 12:20:10.642102: I tensorflow/stream_executor/cuda/cuda_gpu_executor.cc:937] successful NUMA node read from SysFS had negative value (-1), but there must be at least one NUMA node, so returning NUMA node zero\n",
      "2022-09-18 12:20:10.642167: I tensorflow/core/common_runtime/gpu/gpu_device.cc:1418] Created TensorFlow device (/job:localhost/replica:0/task:0/device:GPU:0 with 21964 MB memory) -> physical GPU (device: 0, name: NVIDIA GeForce RTX 3090, pci bus id: 0000:01:00.0, compute capability: 8.6)\n"
     ]
    },
    {
     "name": "stdout",
     "output_type": "stream",
     "text": [
      "Model: \"sequential\"\n",
      "_________________________________________________________________\n",
      "Layer (type)                 Output Shape              Param #   \n",
      "=================================================================\n",
      "inception_resnet_v2 (Functio (None, 4, 4, 1536)        54336736  \n",
      "_________________________________________________________________\n",
      "flatten (Flatten)            (None, 24576)             0         \n",
      "_________________________________________________________________\n",
      "dense (Dense)                (None, 512)               12583424  \n",
      "_________________________________________________________________\n",
      "dropout (Dropout)            (None, 512)               0         \n",
      "_________________________________________________________________\n",
      "dense_1 (Dense)              (None, 512)               262656    \n",
      "_________________________________________________________________\n",
      "dropout_1 (Dropout)          (None, 512)               0         \n",
      "_________________________________________________________________\n",
      "dense_2 (Dense)              (None, 16)                8208      \n",
      "_________________________________________________________________\n",
      "dropout_2 (Dropout)          (None, 16)                0         \n",
      "_________________________________________________________________\n",
      "dense_3 (Dense)              (None, 16)                272       \n",
      "_________________________________________________________________\n",
      "dense_4 (Dense)              (None, 1)                 17        \n",
      "=================================================================\n",
      "Total params: 67,191,313\n",
      "Trainable params: 12,854,577\n",
      "Non-trainable params: 54,336,736\n",
      "_________________________________________________________________\n"
     ]
    }
   ],
   "source": [
    "import time\n",
    "import tensorflow as tf\n",
    "import tensorflow.keras as K\n",
    "\n",
    "# load the Keras inceptionresnetv3\n",
    "inceptionresnetv2_model = tf.keras.applications.InceptionResNetV2(\n",
    "    include_top = False,\n",
    "    weights = 'imagenet',\n",
    "#    input_tensor = K.Input(shape=input_shape),\n",
    "    input_shape = input_shape,\n",
    ")\n",
    "\n",
    "for layer in inceptionresnetv2_model.layers:\n",
    "    layer.trainable = False\n",
    "\n",
    "model = K.Sequential()\n",
    "model.add(inceptionresnetv2_model)\n",
    "model.add(K.layers.Flatten())\n",
    "model.add(K.layers.Dense(512, activation=\"relu\"))\n",
    "model.add(K.layers.Dropout(DROPOUT))\n",
    "model.add(K.layers.Dense(512, activation=\"relu\"))\n",
    "model.add(K.layers.Dropout(DROPOUT))\n",
    "model.add(K.layers.Dense(16, activation=\"relu\"))\n",
    "model.add(K.layers.Dropout(DROPOUT))\n",
    "model.add(K.layers.Dense(16, activation=\"relu\"))\n",
    "model.add(K.layers.Dense(1, activation='sigmoid'))\n",
    "\n",
    "model.summary()"
   ]
  },
  {
   "cell_type": "markdown",
   "id": "2109ac00",
   "metadata": {},
   "source": [
    "## Loading the model\n",
    "\n",
    "Load the model to test:"
   ]
  },
  {
   "cell_type": "code",
   "execution_count": 4,
   "id": "b909a332",
   "metadata": {},
   "outputs": [],
   "source": [
    "import numpy as np \n",
    "from tensorflow import keras\n",
    "from matplotlib import pyplot as plt\n",
    "from IPython.display import clear_output\n",
    "\n",
    "h5_model = \"trained-inceptionresnetv2-b16-e128-16frames-acc-dropout-0.5-alt3.h5\"\n",
    "model.load_weights(h5_model)"
   ]
  },
  {
   "cell_type": "markdown",
   "id": "d7ecd1b8",
   "metadata": {},
   "source": [
    "## Testing the model\n",
    "\n",
    "The video will be classified analyzing one of each frames_step:\n",
    "\n",
    "* If probability is greater than 0.5 the frame will be labeled as non violence, if not will be labeled as violence with probability 1 - probability.\n",
    "* The video will be labeled as the most frequent label among frames analyzed and with probability the mean of the most common label probabilities."
   ]
  },
  {
   "cell_type": "code",
   "execution_count": 5,
   "id": "d7288170",
   "metadata": {},
   "outputs": [
    {
     "name": "stderr",
     "output_type": "stream",
     "text": [
      "2022-09-18 12:20:14.796419: I tensorflow/compiler/mlir/mlir_graph_optimization_pass.cc:176] None of the MLIR Optimization Passes are enabled (registered 2)\n",
      "2022-09-18 12:20:14.814937: I tensorflow/core/platform/profile_utils/cpu_utils.cc:114] CPU Frequency: 3609600000 Hz\n",
      "2022-09-18 12:20:15.929788: I tensorflow/stream_executor/platform/default/dso_loader.cc:53] Successfully opened dynamic library libcudnn.so.8\n",
      "2022-09-18 12:20:16.713261: I tensorflow/stream_executor/cuda/cuda_dnn.cc:359] Loaded cuDNN version 8401\n",
      "2022-09-18 12:20:17.709765: E tensorflow/core/platform/default/subprocess.cc:304] Start cannot spawn child process: No such file or directory\n",
      "2022-09-18 12:20:17.709806: W tensorflow/stream_executor/gpu/asm_compiler.cc:56] Couldn't invoke ptxas --version\n",
      "2022-09-18 12:20:17.710271: E tensorflow/core/platform/default/subprocess.cc:304] Start cannot spawn child process: No such file or directory\n",
      "2022-09-18 12:20:17.710326: W tensorflow/stream_executor/gpu/redzone_allocator.cc:314] Internal: Failed to launch ptxas\n",
      "Relying on driver to perform ptx compilation. \n",
      "Modify $PATH to customize ptxas location.\n",
      "This message will be only logged once.\n",
      "2022-09-18 12:20:17.718369: I tensorflow/stream_executor/platform/default/dso_loader.cc:53] Successfully opened dynamic library libcublas.so.11\n",
      "2022-09-18 12:20:17.718620: I tensorflow/stream_executor/platform/default/dso_loader.cc:53] Successfully opened dynamic library libcublasLt.so.11\n",
      "2022-09-18 12:20:18.065025: I tensorflow/stream_executor/cuda/cuda_blas.cc:1838] TensorFloat-32 will be used for the matrix multiplication. This will only be logged once.\n"
     ]
    }
   ],
   "source": [
    "import cv2\n",
    "import os\n",
    "\n",
    "import numpy as np\n",
    "\n",
    "# test model\n",
    "def test_model(videos, frame_step, videos_path):\n",
    "    predictions = {}\n",
    "\n",
    "    # test model using test dataset\n",
    "    for item in videos:                   \n",
    "        # open video\n",
    "        video_path = os.path.join(videos_path, item)\n",
    "        vidcap = cv2.VideoCapture(video_path)\n",
    "        length = int(vidcap. get(cv2. CAP_PROP_FRAME_COUNT))\n",
    "        video_frames = []\n",
    "        # select frames every 5 frames\n",
    "        frame_index = 1\n",
    "        while frame_index <= length:\n",
    "            try:\n",
    "                # position video frame\n",
    "                vidcap.set(1, frame_index)\n",
    "                sucess, image = vidcap.read()\n",
    "                resized = cv2.resize(image, (IMAGE_WIDTH, IMAGE_HEIGHT))                  \n",
    "                video_frames.append(resized)                \n",
    "                    \n",
    "                # increment index\n",
    "                frame_index += frames_step\n",
    "            except Exception as e:\n",
    "                frame_index += frames_step\n",
    "    \n",
    "        # close video\n",
    "        vidcap.release()\n",
    "            \n",
    "        # predict using model\n",
    "        frames = (np.array(video_frames).astype('float32'))/255\n",
    "        prediction = model.predict(frames) \n",
    "        \n",
    "        violence = []\n",
    "        nonviolence = []\n",
    "        for pred in prediction:\n",
    "            if pred[0] >= 0.5:\n",
    "                nonviolence.append(pred[0])\n",
    "            else:\n",
    "                violence.append(1. - pred[0])\n",
    "\n",
    "        predictions[item] = {}\n",
    "        if len(violence) >= len(nonviolence):\n",
    "            predictions[item]['violence'] = np.mean(violence)\n",
    "        else:\n",
    "            predictions[item]['nonviolence'] = np.mean(nonviolence)\n",
    "    \n",
    "    return predictions\n",
    "\n",
    "# read every frame_steps frames to test the video\n",
    "frames_step = 5\n",
    "   \n",
    "# violence predictions\n",
    "video_dir = os.path.join(video_path_test, 'violence')\n",
    "videos = get_files_dir(video_dir)\n",
    "predictions_violence = test_model(videos, frames_step, os.path.join(video_path_test, 'violence'))\n",
    "# nonviolence predictions\n",
    "video_dir = os.path.join(video_path_test, 'nonviolence')\n",
    "videos = get_files_dir(video_dir)\n",
    "predictions_nonviolence = test_model(videos, frames_step, os.path.join(video_path_test, 'nonviolence'))"
   ]
  },
  {
   "cell_type": "code",
   "execution_count": 9,
   "id": "279ee4d4",
   "metadata": {},
   "outputs": [
    {
     "data": {
      "image/png": "[encoded data removed]",
      "text/plain": [
       "<Figure size 432x288 with 2 Axes>"
      ]
     },
     "metadata": {
      "needs_background": "light"
     },
     "output_type": "display_data"
    }
   ],
   "source": [
    "from sklearn.metrics import confusion_matrix, ConfusionMatrixDisplay\n",
    "import matplotlib.pyplot as plt\n",
    "from matplotlib import rcParams\n",
    "\n",
    "rcParams.update({'font.size': 15})\n",
    "\n",
    "# 0 - Violence\n",
    "# 1 - Nonviolence\n",
    "real_data = []\n",
    "predicted_data = []\n",
    "\n",
    "for item in predictions_violence.keys():\n",
    "    real_data.append('Violence')\n",
    "    if 'violence' in predictions_violence[item].keys():\n",
    "        predicted_data.append('Violence')\n",
    "    else:\n",
    "        predicted_data.append('Non-Violence')\n",
    "        \n",
    "for item in predictions_nonviolence.keys():\n",
    "    real_data.append('Non-Violence')\n",
    "    if 'violence' in predictions_nonviolence[item].keys():\n",
    "        predicted_data.append('Violence')\n",
    "    else:\n",
    "        predicted_data.append('Non-Violence')\n",
    "\n",
    "cf_matrix = confusion_matrix(real_data, predicted_data, labels=['Violence', 'Non-Violence'])\n",
    "\n",
    "# create the Confusion Matrix Display \n",
    "cmd_obj = ConfusionMatrixDisplay(cf_matrix, \n",
    "                                 display_labels=['Violence', 'Non Violence'])\n",
    "\n",
    "cmd_obj.plot()\n",
    "cmd_obj.ax_.set(\n",
    "                title='InceptionResNetV2 Confusion Matrix', \n",
    "                xlabel='True label', \n",
    "                ylabel='Predicted label')\n",
    "plt.show()"
   ]
  },
  {
   "cell_type": "code",
   "execution_count": 10,
   "id": "746b3965",
   "metadata": {},
   "outputs": [
    {
     "data": {
      "image/png": "[encoded data removed]",
      "text/plain": [
       "<Figure size 432x288 with 2 Axes>"
      ]
     },
     "metadata": {
      "needs_background": "light"
     },
     "output_type": "display_data"
    }
   ],
   "source": [
    "# create the Confusion Matrix Display \n",
    "cmd_obj_es = ConfusionMatrixDisplay(cf_matrix, \n",
    "                                 display_labels=['Violencia', 'No Violencia'])\n",
    "\n",
    "cmd_obj_es.plot()\n",
    "cmd_obj_es.ax_.set(\n",
    "                title='Matriz de confusión para InceptionResNetV2', \n",
    "                xlabel='Predicciones', \n",
    "                ylabel='Valores reales')\n",
    "plt.show()"
   ]
  },
  {
   "cell_type": "markdown",
   "id": "af602868",
   "metadata": {},
   "source": [
    "Model performance:"
   ]
  },
  {
   "cell_type": "code",
   "execution_count": 8,
   "id": "a7def80d",
   "metadata": {},
   "outputs": [
    {
     "name": "stdout",
     "output_type": "stream",
     "text": [
      "Accuracy: 67.14\n",
      "Recall: 73.86\n",
      "Precision: 77.39\n",
      "Specificity: 52.29\n",
      "F1: 0.7558\n"
     ]
    }
   ],
   "source": [
    "TP = cf_matrix[0][0]\n",
    "TN = cf_matrix[1][1]\n",
    "FP = cf_matrix[0][1]\n",
    "FN = cf_matrix[1][0]\n",
    "\n",
    "accuracy = (TP + TN)/(len(files_dir_violence) + len(files_dir_nonviolence))\n",
    "recall = TP/(TP + FN)\n",
    "precision = TP /(TP + FP)\n",
    "specificity = TN/(TN + FP)\n",
    "f1 = 2* (precision * recall)/(precision + recall)\n",
    "\n",
    "print(\"Accuracy: %.2f\" % (100 * accuracy))\n",
    "print(\"Recall: %.2f\" % (100 * recall))\n",
    "print(\"Precision: %.2f\" % (100 * precision))\n",
    "print(\"Specificity: %.2f\" % (100 * specificity))\n",
    "print(\"F1: %.4f\" % f1)"
   ]
  },
  {
   "cell_type": "code",
   "execution_count": null,
   "id": "6e3ca63c",
   "metadata": {},
   "outputs": [],
   "source": []
  }
 ],
 "metadata": {
  "kernelspec": {
   "display_name": "Python 3 (ipykernel)",
   "language": "python",
   "name": "python3"
  },
  "language_info": {
   "codemirror_mode": {
    "name": "ipython",
    "version": 3
   },
   "file_extension": ".py",
   "mimetype": "text/x-python",
   "name": "python",
   "nbconvert_exporter": "python",
   "pygments_lexer": "ipython3",
   "version": "3.7.13"
  }
 },
 "nbformat": 4,
 "nbformat_minor": 5
}
