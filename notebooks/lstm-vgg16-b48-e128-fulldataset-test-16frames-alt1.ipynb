{
 "cells": [
  {
   "cell_type": "markdown",
   "id": "swiss-excuse",
   "metadata": {},
   "source": [
    "Copyright (c) 2022 José Ángel de Bustos Pérez\n",
    "\n",
    "May be copied or modified under the terms of the GNU General Public License v3.0.  See https://www.gnu.org/licenses/gpl-3.0.html\n",
    "\n",
    "# Training CNN + LSTM\n",
    "\n",
    "This notebook trains CNN + LSTM using a pretrained VGG16 model. Best and last model will be saved.\n",
    "\n",
    "The h5 model is not included due to exceeds GitHub storage limits.\n"
   ]
  },
  {
   "cell_type": "markdown",
   "id": "43f4c02c",
   "metadata": {},
   "source": [
    "## Check environment"
   ]
  },
  {
   "cell_type": "code",
   "execution_count": 1,
   "id": "4e33ba95",
   "metadata": {},
   "outputs": [
    {
     "name": "stderr",
     "output_type": "stream",
     "text": [
      "2022-09-18 03:56:40.173076: I tensorflow/stream_executor/platform/default/dso_loader.cc:53] Successfully opened dynamic library libcudart.so.11.0\n"
     ]
    },
    {
     "name": "stdout",
     "output_type": "stream",
     "text": [
      "Tensorflow version: 2.5.3\n",
      "\n",
      "[name: \"/device:CPU:0\"\n",
      "device_type: \"CPU\"\n",
      "memory_limit: 268435456\n",
      "locality {\n",
      "}\n",
      "incarnation: 9487365082539897146\n",
      ", name: \"/device:GPU:0\"\n",
      "device_type: \"GPU\"\n",
      "memory_limit: 23040753664\n",
      "locality {\n",
      "  bus_id: 1\n",
      "  links {\n",
      "  }\n",
      "}\n",
      "incarnation: 11677655707247346079\n",
      "physical_device_desc: \"device: 0, name: NVIDIA GeForce RTX 3090, pci bus id: 0000:01:00.0, compute capability: 8.6\"\n",
      "]\n",
      "Num GPUs Available:  1\n"
     ]
    },
    {
     "name": "stderr",
     "output_type": "stream",
     "text": [
      "2022-09-18 03:56:40.932515: I tensorflow/stream_executor/platform/default/dso_loader.cc:53] Successfully opened dynamic library libcuda.so.1\n",
      "2022-09-18 03:56:40.959417: I tensorflow/stream_executor/cuda/cuda_gpu_executor.cc:937] successful NUMA node read from SysFS had negative value (-1), but there must be at least one NUMA node, so returning NUMA node zero\n",
      "2022-09-18 03:56:40.959490: I tensorflow/core/common_runtime/gpu/gpu_device.cc:1733] Found device 0 with properties: \n",
      "pciBusID: 0000:01:00.0 name: NVIDIA GeForce RTX 3090 computeCapability: 8.6\n",
      "coreClock: 1.695GHz coreCount: 82 deviceMemorySize: 23.69GiB deviceMemoryBandwidth: 871.81GiB/s\n",
      "2022-09-18 03:56:40.959502: I tensorflow/stream_executor/platform/default/dso_loader.cc:53] Successfully opened dynamic library libcudart.so.11.0\n",
      "2022-09-18 03:56:40.966714: I tensorflow/stream_executor/platform/default/dso_loader.cc:53] Successfully opened dynamic library libcublas.so.11\n",
      "2022-09-18 03:56:40.966750: I tensorflow/stream_executor/platform/default/dso_loader.cc:53] Successfully opened dynamic library libcublasLt.so.11\n",
      "2022-09-18 03:56:40.982969: I tensorflow/stream_executor/platform/default/dso_loader.cc:53] Successfully opened dynamic library libcufft.so.10\n",
      "2022-09-18 03:56:40.984115: I tensorflow/stream_executor/platform/default/dso_loader.cc:53] Successfully opened dynamic library libcurand.so.10\n",
      "2022-09-18 03:56:40.985526: I tensorflow/stream_executor/platform/default/dso_loader.cc:53] Successfully opened dynamic library libcusolver.so.11\n",
      "2022-09-18 03:56:40.987874: I tensorflow/stream_executor/platform/default/dso_loader.cc:53] Successfully opened dynamic library libcusparse.so.11\n",
      "2022-09-18 03:56:40.987947: I tensorflow/stream_executor/platform/default/dso_loader.cc:53] Successfully opened dynamic library libcudnn.so.8\n",
      "2022-09-18 03:56:40.988002: I tensorflow/stream_executor/cuda/cuda_gpu_executor.cc:937] successful NUMA node read from SysFS had negative value (-1), but there must be at least one NUMA node, so returning NUMA node zero\n",
      "2022-09-18 03:56:40.988082: I tensorflow/stream_executor/cuda/cuda_gpu_executor.cc:937] successful NUMA node read from SysFS had negative value (-1), but there must be at least one NUMA node, so returning NUMA node zero\n",
      "2022-09-18 03:56:40.988118: I tensorflow/core/common_runtime/gpu/gpu_device.cc:1871] Adding visible gpu devices: 0\n",
      "2022-09-18 03:56:40.988504: I tensorflow/core/platform/cpu_feature_guard.cc:142] This TensorFlow binary is optimized with oneAPI Deep Neural Network Library (oneDNN) to use the following CPU instructions in performance-critical operations:  AVX2 FMA\n",
      "To enable them in other operations, rebuild TensorFlow with the appropriate compiler flags.\n",
      "2022-09-18 03:56:40.989490: I tensorflow/stream_executor/cuda/cuda_gpu_executor.cc:937] successful NUMA node read from SysFS had negative value (-1), but there must be at least one NUMA node, so returning NUMA node zero\n",
      "2022-09-18 03:56:40.989550: I tensorflow/core/common_runtime/gpu/gpu_device.cc:1733] Found device 0 with properties: \n",
      "pciBusID: 0000:01:00.0 name: NVIDIA GeForce RTX 3090 computeCapability: 8.6\n",
      "coreClock: 1.695GHz coreCount: 82 deviceMemorySize: 23.69GiB deviceMemoryBandwidth: 871.81GiB/s\n",
      "2022-09-18 03:56:40.989572: I tensorflow/stream_executor/cuda/cuda_gpu_executor.cc:937] successful NUMA node read from SysFS had negative value (-1), but there must be at least one NUMA node, so returning NUMA node zero\n",
      "2022-09-18 03:56:40.989612: I tensorflow/stream_executor/cuda/cuda_gpu_executor.cc:937] successful NUMA node read from SysFS had negative value (-1), but there must be at least one NUMA node, so returning NUMA node zero\n",
      "2022-09-18 03:56:40.989643: I tensorflow/core/common_runtime/gpu/gpu_device.cc:1871] Adding visible gpu devices: 0\n",
      "2022-09-18 03:56:40.989654: I tensorflow/stream_executor/platform/default/dso_loader.cc:53] Successfully opened dynamic library libcudart.so.11.0\n",
      "2022-09-18 03:56:41.377957: I tensorflow/core/common_runtime/gpu/gpu_device.cc:1258] Device interconnect StreamExecutor with strength 1 edge matrix:\n",
      "2022-09-18 03:56:41.377977: I tensorflow/core/common_runtime/gpu/gpu_device.cc:1264]      0 \n",
      "2022-09-18 03:56:41.377981: I tensorflow/core/common_runtime/gpu/gpu_device.cc:1277] 0:   N \n",
      "2022-09-18 03:56:41.378082: I tensorflow/stream_executor/cuda/cuda_gpu_executor.cc:937] successful NUMA node read from SysFS had negative value (-1), but there must be at least one NUMA node, so returning NUMA node zero\n",
      "2022-09-18 03:56:41.378158: I tensorflow/stream_executor/cuda/cuda_gpu_executor.cc:937] successful NUMA node read from SysFS had negative value (-1), but there must be at least one NUMA node, so returning NUMA node zero\n",
      "2022-09-18 03:56:41.378204: I tensorflow/stream_executor/cuda/cuda_gpu_executor.cc:937] successful NUMA node read from SysFS had negative value (-1), but there must be at least one NUMA node, so returning NUMA node zero\n",
      "2022-09-18 03:56:41.378277: I tensorflow/core/common_runtime/gpu/gpu_device.cc:1418] Created TensorFlow device (/device:GPU:0 with 21973 MB memory) -> physical GPU (device: 0, name: NVIDIA GeForce RTX 3090, pci bus id: 0000:01:00.0, compute capability: 8.6)\n"
     ]
    }
   ],
   "source": [
    "import warnings\n",
    "warnings.filterwarnings('ignore')\n",
    "\n",
    "import tensorflow as tf\n",
    "\n",
    "from tensorflow.compat.v1 import ConfigProto\n",
    "from tensorflow.compat.v1 import InteractiveSession\n",
    "config = ConfigProto()\n",
    "config.gpu_options.per_process_gpu_memory_fraction = 0.9\n",
    "gpu_devices = tf.config.experimental.list_physical_devices(\"GPU\")\n",
    "for device in gpu_devices:\n",
    "    tf.config.experimental.set_memory_growth(device, True)    \n",
    "\n",
    "print(\"Tensorflow version: %s\\n\" % tf.__version__)\n",
    "\n",
    "from tensorflow.python.client import device_lib\n",
    "print(device_lib.list_local_devices())\n",
    "print(\"Num GPUs Available: \", len(tf.config.list_physical_devices('GPU')))"
   ]
  },
  {
   "cell_type": "markdown",
   "id": "497dc050",
   "metadata": {},
   "source": [
    "## Hyperparameters and data preparation"
   ]
  },
  {
   "cell_type": "code",
   "execution_count": 2,
   "id": "f9ec7c95",
   "metadata": {},
   "outputs": [
    {
     "name": "stdout",
     "output_type": "stream",
     "text": [
      "Training videos (violence): 600\n",
      "Training videos (nonviolence): 600\n",
      "\n",
      "Validation videos (violence): 200\n",
      "Validation videos (nonviolence): 200\n",
      "\n",
      "Test videos (violence): 200\n",
      "Test videos (nonviolence): 200\n"
     ]
    }
   ],
   "source": [
    "import numpy as np\n",
    "import string\n",
    "import os\n",
    "\n",
    "whole_dataset = '/home/jadebustos/tfm/datasets/real life violence situations'\n",
    "\n",
    "video_path_train = '/home/jadebustos/tfm/datasets/video_tmp/full/train'\n",
    "video_path_validation = '/home/jadebustos/tfm/datasets/video_tmp/full/validation'\n",
    "video_path_test = '/home/jadebustos/tfm/datasets/video_tmp/full/test'\n",
    "\n",
    "imgs_path_train = '/home/jadebustos/tfm/datasets/imgs/lstm-16-frames/train'\n",
    "imgs_path_validation = '/home/jadebustos/tfm/datasets/imgs/lstm-16-frames/validation'\n",
    "imgs_path_test = '/home/jadebustos/tfm/datasets/imgs/lstm-16-frames/test'\n",
    "\n",
    "# Hyperparams\n",
    "IMAGE_SIZE = 200\n",
    "IMAGE_WIDTH, IMAGE_HEIGHT = IMAGE_SIZE, IMAGE_SIZE\n",
    "EPOCHS = 128\n",
    "BATCH_SIZE = 48\n",
    "\n",
    "VIDEO_FRAMES = 16\n",
    "\n",
    "DROPOUT = 0.5\n",
    "\n",
    "labels = ['violence', 'nonviolence']\n",
    "labels_dict = {}\n",
    "labels_dict['violence'] = 0\n",
    "labels_dict['nonviolence'] = 1\n",
    "\n",
    "# get files in directory\n",
    "def get_files_dir(directory):\n",
    "    return os.listdir(directory)\n",
    "\n",
    "violence_train_files = get_files_dir(os.path.join(video_path_train, 'violence'))\n",
    "print(\"Training videos (violence): %d\" % len(violence_train_files))\n",
    "nonviolence_train_files = get_files_dir(os.path.join(video_path_train, 'nonviolence'))\n",
    "print(\"Training videos (nonviolence): %d\" % len(nonviolence_train_files))\n",
    "\n",
    "violence_val_files = get_files_dir(os.path.join(video_path_validation, 'violence'))\n",
    "print(\"\\nValidation videos (violence): %d\" % len(violence_val_files))\n",
    "nonviolence_val_files = get_files_dir(os.path.join(video_path_validation, 'nonviolence'))\n",
    "print(\"Validation videos (nonviolence): %d\" % len(nonviolence_val_files))\n",
    "\n",
    "violence_test_files = get_files_dir(os.path.join(video_path_test, 'violence'))\n",
    "print(\"\\nTest videos (violence): %d\" % len(violence_test_files))\n",
    "nonviolence_test_files = get_files_dir(os.path.join(video_path_test, 'nonviolence'))\n",
    "print(\"Test videos (nonviolence): %d\" % len(nonviolence_test_files))"
   ]
  },
  {
   "cell_type": "markdown",
   "id": "50527f2f",
   "metadata": {},
   "source": [
    "Load training and validation data:"
   ]
  },
  {
   "cell_type": "code",
   "execution_count": 3,
   "id": "bfc51b7c",
   "metadata": {},
   "outputs": [
    {
     "name": "stdout",
     "output_type": "stream",
     "text": [
      "Loading training data ...\n",
      "Loading validation data ...\n"
     ]
    }
   ],
   "source": [
    "import glob\n",
    "import cv2\n",
    "from glob import glob\n",
    "\n",
    "def load_set(dirname, labels_dict, verbose=True):\n",
    "    \"\"\"Esta función carga los datos de training en imágenes.\n",
    "    \n",
    "    Como las imágenes tienen tamaños distintas, utilizamos la librería opencv\n",
    "    para hacer un resize y adaptarlas todas a tamaño IMG_SIZE x IMG_SIZE.\n",
    "    \n",
    "    Args:\n",
    "        dirname: directorio completo del que leer los datos\n",
    "        verbose: si es True, muestra información de las imágenes cargadas\n",
    "     \n",
    "    Returns:\n",
    "        X, y: X es un array con todas las imágenes cargadas con tamaño\n",
    "                IMG_SIZE x IMG_SIZE\n",
    "              y es un array con las labels de correspondientes a cada imagen\n",
    "    \"\"\"\n",
    "    labels = glob(os.path.join(dirname, '*'), recursive = False)\n",
    "    X_ = []\n",
    "    y_ = []\n",
    "    \n",
    "    for label in labels:\n",
    "        label = label.split('/')[-1]\n",
    "        dir_path = os.path.join(dirname, label)\n",
    "        video_dirs = next(os.walk(dir_path))[1]\n",
    "        # iterate over video\n",
    "        for video in video_dirs:\n",
    "            video_frames = []\n",
    "            video_dir = os.path.join(dir_path, video)\n",
    "            files_path = os.listdir(video_dir)\n",
    "            images = [file for file in files_path if file.endswith(\"png\")]\n",
    "            if verbose:\n",
    "                print(\"Reading {} images found in {}\".format(len(images), files_path))\n",
    "            for image_name in images:\n",
    "                image = cv2.imread(os.path.join(video_dir,image_name))\n",
    "                video_frames.append(image)                             \n",
    "            X_.append(video_frames)\n",
    "            y_.append(labels_dict[label])\n",
    "    return (np.array(X_).astype('float32'))/255, np.eye(len(labels_dict))[np.array(y_)]\n",
    "\n",
    "# load data\n",
    "print(\"Loading training data ...\")\n",
    "X_train, y_train = load_set(imgs_path_train, labels_dict, verbose=False)\n",
    "print(\"Loading validation data ...\")\n",
    "X_validation, y_validation = load_set(imgs_path_validation, labels_dict, verbose=False)\n",
    "\n",
    "# define input_shape\n",
    "if tf.keras.backend.image_data_format() == 'channels_first':\n",
    "    input_shape = (3, IMAGE_WIDTH, IMAGE_HEIGHT)\n",
    "    lstm_input_shape = (3, IMAGE_WIDTH, IMAGE_HEIGHT, VIDEO_FRAMES)\n",
    "else:\n",
    "    input_shape = (IMAGE_WIDTH, IMAGE_HEIGHT, 3)\n",
    "    lstm_input_shape = (VIDEO_FRAMES, IMAGE_WIDTH, IMAGE_HEIGHT, 3)\n",
    "    \n",
    "    \n",
    "# shuffle train data\n",
    "x = np.arange(y_train.shape[0])\n",
    "np.random.shuffle(x)\n",
    "X_train = X_train[x]\n",
    "y_train = y_train[x]\n",
    "\n",
    "# shuffle validation data\n",
    "x = np.arange(y_validation.shape[0])\n",
    "np.random.shuffle(x)\n",
    "X_validation = X_validation[x]\n",
    "y_validation = y_validation[x]"
   ]
  },
  {
   "cell_type": "markdown",
   "id": "640af530",
   "metadata": {},
   "source": [
    "## Model creation"
   ]
  },
  {
   "cell_type": "code",
   "execution_count": 8,
   "id": "aware-turtle",
   "metadata": {},
   "outputs": [
    {
     "name": "stdout",
     "output_type": "stream",
     "text": [
      "WARNING:tensorflow:Layer lstm_1 will not use cuDNN kernels since it doesn't meet the criteria. It will use a generic GPU kernel as fallback when running on GPU.\n",
      "Model: \"model_3\"\n",
      "_________________________________________________________________\n",
      "Layer (type)                 Output Shape              Param #   \n",
      "=================================================================\n",
      "input_3 (InputLayer)         [(None, 16, 200, 200, 3)] 0         \n",
      "_________________________________________________________________\n",
      "time_distributed_2 (TimeDist (None, 16, 512)           14714688  \n",
      "_________________________________________________________________\n",
      "time_distributed_3 (TimeDist (None, 16, 512)           0         \n",
      "_________________________________________________________________\n",
      "lstm_1 (LSTM)                (None, 32)                69760     \n",
      "_________________________________________________________________\n",
      "dropout_3 (Dropout)          (None, 32)                0         \n",
      "_________________________________________________________________\n",
      "dense_4 (Dense)              (None, 32)                1056      \n",
      "_________________________________________________________________\n",
      "dropout_4 (Dropout)          (None, 32)                0         \n",
      "_________________________________________________________________\n",
      "dense_5 (Dense)              (None, 16)                528       \n",
      "_________________________________________________________________\n",
      "dropout_5 (Dropout)          (None, 16)                0         \n",
      "_________________________________________________________________\n",
      "dense_6 (Dense)              (None, 16)                272       \n",
      "_________________________________________________________________\n",
      "dense_7 (Dense)              (None, 2)                 34        \n",
      "=================================================================\n",
      "Total params: 14,786,338\n",
      "Trainable params: 71,650\n",
      "Non-trainable params: 14,714,688\n",
      "_________________________________________________________________\n"
     ]
    }
   ],
   "source": [
    "import time\n",
    "import tensorflow as tf\n",
    "import tensorflow.keras as K\n",
    "\n",
    "# function to get training time (human readable)\n",
    "def display_time(seconds, granularity=2):\n",
    "    result = []\n",
    "\n",
    "    intervals = (\n",
    "        ('dias', 86400),    # 60 * 60 * 24\n",
    "        ('horas', 3600),    # 60 * 60\n",
    "        ('minutos', 60),\n",
    "        ('segundos', 1),\n",
    "    )\n",
    "    \n",
    "    for name, count in intervals:\n",
    "        value = seconds // count\n",
    "        if value:\n",
    "            seconds -= value * count\n",
    "            if value == 1:\n",
    "                name = name.rstrip('s')\n",
    "            result.append(\"{} {}\".format(value, name))\n",
    "    return ', '.join(result[:granularity])\n",
    "\n",
    "# TODO MOVE NEURAL NETWORK CODE TO A CLASS\n",
    "\n",
    "video = K.Input(lstm_input_shape)\n",
    "cnn_base = tf.keras.applications.VGG16(input_shape=input_shape, weights=\"imagenet\", include_top=False)\n",
    "cnn_out = tf.keras.layers.GlobalAveragePooling2D()(cnn_base.output)\n",
    "cnn = K.Model(inputs=cnn_base.input, outputs=cnn_out)\n",
    "cnn.trainable = False\n",
    "encoded_frames = tf.keras.layers.TimeDistributed(cnn)(video)\n",
    "flatten = tf.keras.layers.TimeDistributed(tf.keras.layers.Flatten())(encoded_frames)\n",
    "encoded_sequence = tf.keras.layers.LSTM(32, activation=\"relu\")(flatten)\n",
    "dropout = tf.keras.layers.Dropout(DROPOUT)(encoded_sequence)\n",
    "hidden_layer1 = tf.keras.layers.Dense(units=32, activation=\"relu\")(dropout)\n",
    "dropout = tf.keras.layers.Dropout(DROPOUT)(hidden_layer1)\n",
    "#hidden_layer2 = tf.keras.layers.Dense(units=256, activation=\"relu\")(dropout)\n",
    "#dropout = tf.keras.layers.Dropout(DROPOUT)(hidden_layer2)\n",
    "hidden_layer3 = tf.keras.layers.Dense(units=16, activation=\"relu\")(dropout)\n",
    "dropout = tf.keras.layers.Dropout(DROPOUT)(hidden_layer3)\n",
    "hidden_layer4 = tf.keras.layers.Dense(units=16, activation=\"relu\")(dropout)\n",
    "outputs = tf.keras.layers.Dense(units=2, activation=\"softmax\")(hidden_layer4)\n",
    "model = K.Model([video], outputs)\n",
    "\n",
    "VERSION='alt1'\n",
    "\n",
    "model_checkpoint_filename_acc = \"lstm-vgg16-b\" + str(BATCH_SIZE) + \"-e\" + str(EPOCHS) + \"-16frames-acc-dropout-\" + str(DROPOUT) + \"-\" + VERSION + \".h5\"\n",
    "check_point = K.callbacks.ModelCheckpoint(filepath=model_checkpoint_filename_acc,\n",
    "                                          monitor=\"val_accuracy\",\n",
    "                                          mode=\"max\",\n",
    "                                          save_best_only=True,\n",
    "                                         )\n",
    "\n",
    "#early_stopping = K.callbacks.EarlyStopping(monitor='val_accuracy', patience=16, verbose=0, mode='max')\n",
    "\n",
    "# loss:\n",
    "#  binary_crossentropy for binary problems\n",
    "#  categorical_crossentropy for more classes\n",
    "\n",
    "lr = 1e-4\n",
    "model.compile(loss='categorical_crossentropy',\n",
    "                 optimizer=K.optimizers.RMSprop(learning_rate=lr),\n",
    "                  metrics=['accuracy'])\n",
    "\n",
    "model.summary()"
   ]
  },
  {
   "cell_type": "markdown",
   "id": "2109ac00",
   "metadata": {},
   "source": [
    "## Training the model\n",
    "\n",
    "Callback to see the model performance. **PlotLossesKeras** from **livelossplot** does not work, it seem a problem with Tensorflow version (2.4.1) and Keras version (2.9.0)."
   ]
  },
  {
   "cell_type": "code",
   "execution_count": 5,
   "id": "b909a332",
   "metadata": {},
   "outputs": [],
   "source": [
    "import numpy as np \n",
    "from tensorflow import keras\n",
    "from matplotlib import pyplot as plt\n",
    "from IPython.display import clear_output\n",
    "\n",
    "class PlotLearning(keras.callbacks.Callback):\n",
    "    \"\"\"\n",
    "    Callback to plot the learning curves of the model during training.\n",
    "    \"\"\"\n",
    "    def on_train_begin(self, logs={}):\n",
    "        self.metrics = {}\n",
    "        for metric in logs:\n",
    "            self.metrics[metric] = []\n",
    "            \n",
    "\n",
    "    def on_epoch_end(self, epoch, logs={}):\n",
    "        # Storing metrics\n",
    "        for metric in logs:\n",
    "            if metric in self.metrics:\n",
    "                self.metrics[metric].append(logs.get(metric))\n",
    "            else:\n",
    "                self.metrics[metric] = [logs.get(metric)]\n",
    "        \n",
    "        # Plotting\n",
    "        metrics = [x for x in logs if 'val' not in x]\n",
    "        \n",
    "        f, axs = plt.subplots(1, len(metrics), figsize=(15,5))\n",
    "        clear_output(wait=True)\n",
    "\n",
    "        for i, metric in enumerate(metrics):\n",
    "            axs[i].plot(range(1, epoch + 2), \n",
    "                        self.metrics[metric], \n",
    "                        label=metric)\n",
    "            if logs['val_' + metric]:\n",
    "                axs[i].plot(range(1, epoch + 2), \n",
    "                            self.metrics['val_' + metric], \n",
    "                            label='val_' + metric)\n",
    "                \n",
    "            axs[i].legend()\n",
    "            axs[i].grid()\n",
    "\n",
    "        plt.tight_layout()\n",
    "        plt.show()"
   ]
  },
  {
   "cell_type": "code",
   "execution_count": 6,
   "id": "2e25c14e",
   "metadata": {},
   "outputs": [
    {
     "data": {
      "text/plain": [
       "'Sun Sep 18 03:57:08 2022'"
      ]
     },
     "execution_count": 6,
     "metadata": {},
     "output_type": "execute_result"
    }
   ],
   "source": [
    "time.ctime()"
   ]
  },
  {
   "cell_type": "code",
   "execution_count": 9,
   "id": "mysterious-olive",
   "metadata": {},
   "outputs": [
    {
     "data": {
      "image/png": "[encoded data removed]",
      "text/plain": [
       "<Figure size 1080x360 with 2 Axes>"
      ]
     },
     "metadata": {
      "needs_background": "light"
     },
     "output_type": "display_data"
    },
    {
     "name": "stdout",
     "output_type": "stream",
     "text": [
      "Model: \"model_3\"\n",
      "_________________________________________________________________\n",
      "Layer (type)                 Output Shape              Param #   \n",
      "=================================================================\n",
      "input_3 (InputLayer)         [(None, 16, 200, 200, 3)] 0         \n",
      "_________________________________________________________________\n",
      "time_distributed_2 (TimeDist (None, 16, 512)           14714688  \n",
      "_________________________________________________________________\n",
      "time_distributed_3 (TimeDist (None, 16, 512)           0         \n",
      "_________________________________________________________________\n",
      "lstm_1 (LSTM)                (None, 32)                69760     \n",
      "_________________________________________________________________\n",
      "dropout_3 (Dropout)          (None, 32)                0         \n",
      "_________________________________________________________________\n",
      "dense_4 (Dense)              (None, 32)                1056      \n",
      "_________________________________________________________________\n",
      "dropout_4 (Dropout)          (None, 32)                0         \n",
      "_________________________________________________________________\n",
      "dense_5 (Dense)              (None, 16)                528       \n",
      "_________________________________________________________________\n",
      "dropout_5 (Dropout)          (None, 16)                0         \n",
      "_________________________________________________________________\n",
      "dense_6 (Dense)              (None, 16)                272       \n",
      "_________________________________________________________________\n",
      "dense_7 (Dense)              (None, 2)                 34        \n",
      "=================================================================\n",
      "Total params: 14,786,338\n",
      "Trainable params: 71,650\n",
      "Non-trainable params: 14,714,688\n",
      "_________________________________________________________________\n",
      "Training time: 47.0 minutos, 20.0 segundos\n"
     ]
    }
   ],
   "source": [
    "# time to start training\n",
    "start_time = time.time()\n",
    "\n",
    "history = model.fit(X_train, y_train, batch_size=BATCH_SIZE, epochs=EPOCHS, verbose=1,\n",
    "                    validation_data=(X_validation, y_validation),\n",
    "                    shuffle=True,\n",
    "                    callbacks=[PlotLearning(),\n",
    "                               check_point])\n",
    "\n",
    "# time at the end of training\n",
    "end_time = time.time()\n",
    "\n",
    "model_last_filename = \"lstm-vgg16-b\" + str(BATCH_SIZE) + \"-e\" + str(EPOCHS) + \"-16frames-last-dropout-\" + str(DROPOUT) + \"-\" + VERSION + \".h5\"\n",
    "\n",
    "model.summary()\n",
    "model.save(model_last_filename)\n",
    "\n",
    "# time to train\n",
    "msg = display_time(end_time - start_time)\n",
    "print(\"Training time: %s\" % msg)"
   ]
  },
  {
   "cell_type": "code",
   "execution_count": 10,
   "id": "98d4ad9f",
   "metadata": {},
   "outputs": [
    {
     "data": {
      "text/plain": [
       "0.934166669845581"
      ]
     },
     "execution_count": 10,
     "metadata": {},
     "output_type": "execute_result"
    }
   ],
   "source": [
    "accuracy = history.history['accuracy']\n",
    "max(accuracy)"
   ]
  },
  {
   "cell_type": "code",
   "execution_count": 11,
   "id": "62ade7d3",
   "metadata": {},
   "outputs": [
    {
     "data": {
      "text/plain": [
       "0.204075425863266"
      ]
     },
     "execution_count": 11,
     "metadata": {},
     "output_type": "execute_result"
    }
   ],
   "source": [
    "loss = history.history['loss']\n",
    "min(loss)"
   ]
  },
  {
   "cell_type": "code",
   "execution_count": 12,
   "id": "432e3f61",
   "metadata": {},
   "outputs": [
    {
     "data": {
      "text/plain": [
       "0.8675000071525574"
      ]
     },
     "execution_count": 12,
     "metadata": {},
     "output_type": "execute_result"
    }
   ],
   "source": [
    "val_accuracy = history.history['val_accuracy']\n",
    "max(val_accuracy)"
   ]
  },
  {
   "cell_type": "code",
   "execution_count": 13,
   "id": "e023bc23",
   "metadata": {},
   "outputs": [
    {
     "data": {
      "text/plain": [
       "0.47450610995292664"
      ]
     },
     "execution_count": 13,
     "metadata": {},
     "output_type": "execute_result"
    }
   ],
   "source": [
    "val_loss = history.history['val_loss']\n",
    "min(val_loss)"
   ]
  },
  {
   "cell_type": "markdown",
   "id": "d7ecd1b8",
   "metadata": {},
   "source": [
    "## Testing the model"
   ]
  },
  {
   "cell_type": "code",
   "execution_count": 14,
   "id": "a5b3e867",
   "metadata": {},
   "outputs": [],
   "source": [
    "prediction = model.predict(X_train[:1])"
   ]
  },
  {
   "cell_type": "code",
   "execution_count": 15,
   "id": "4009fe16",
   "metadata": {},
   "outputs": [
    {
     "data": {
      "text/plain": [
       "array([[0.4580991 , 0.54190093]], dtype=float32)"
      ]
     },
     "execution_count": 15,
     "metadata": {},
     "output_type": "execute_result"
    }
   ],
   "source": [
    "prediction"
   ]
  },
  {
   "cell_type": "code",
   "execution_count": null,
   "id": "a91fe277",
   "metadata": {},
   "outputs": [],
   "source": [
    "\n"
   ]
  }
 ],
 "metadata": {
  "kernelspec": {
   "display_name": "Python 3 (ipykernel)",
   "language": "python",
   "name": "python3"
  },
  "language_info": {
   "codemirror_mode": {
    "name": "ipython",
    "version": 3
   },
   "file_extension": ".py",
   "mimetype": "text/x-python",
   "name": "python",
   "nbconvert_exporter": "python",
   "pygments_lexer": "ipython3",
   "version": "3.7.13"
  }
 },
 "nbformat": 4,
 "nbformat_minor": 5
}
